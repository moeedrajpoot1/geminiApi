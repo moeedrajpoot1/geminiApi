{
  "cells": [
    {
      "cell_type": "markdown",
      "metadata": {
        "id": "view-in-github",
        "colab_type": "text"
      },
      "source": [
        "<a href=\"https://colab.research.google.com/github/moeedrajpoot1/geminiApi/blob/main/GeminiApi.ipynb\" target=\"_parent\"><img src=\"https://colab.research.google.com/assets/colab-badge.svg\" alt=\"Open In Colab\"/></a>"
      ]
    },
    {
      "cell_type": "code",
      "execution_count": null,
      "metadata": {
        "id": "_0euMpMGg8uG"
      },
      "outputs": [],
      "source": [
        "# we will install Gemini Sdk Software Develipment kit that will help us to create a applications using these tools\n",
        "!pip install --upgrade --quiet google-generativeai"
      ]
    },
    {
      "cell_type": "code",
      "execution_count": null,
      "metadata": {
        "colab": {
          "base_uri": "https://localhost:8080/"
        },
        "id": "_TAwdN-ihHUC",
        "outputId": "cdef3529-2987-44e9-9a79-cd8fe11d9c44"
      },
      "outputs": [
        {
          "name": "stdout",
          "output_type": "stream",
          "text": [
            "Key Connected Successfully\n"
          ]
        }
      ],
      "source": [
        "# Import the `userdata` module from `google.colab` to access user-specific data.\n",
        "from google.colab import userdata\n",
        "# and then get the api key and pass it and set the type str for ambiguity for type errors\n",
        "GEMINI_API_KEY: str = userdata.get('GOOGLE_API_KEY')\n",
        "# and we check now our api is connected or not\n",
        "if GEMINI_API_KEY:\n",
        "  print('Key Connected Successfully')\n",
        "else:\n",
        "  print('Key Connection fail ')"
      ]
    },
    {
      "cell_type": "code",
      "execution_count": null,
      "metadata": {
        "id": "flgMPtAghI5P"
      },
      "outputs": [],
      "source": [
        "# Import the genai module for API interaction\n",
        "import google.generativeai as genai\n",
        "\n",
        "# configure the key\n",
        "genai.configure(api_key=GEMINI_API_KEY)"
      ]
    },
    {
      "cell_type": "code",
      "execution_count": null,
      "metadata": {
        "id": "J-zjAeu6hN3J"
      },
      "outputs": [],
      "source": [
        "from google.generativeai.generative_models import GenerativeModel\n",
        "\n",
        "model: GenerativeModel = genai.GenerativeModel(\"gemini-1.5-flash\")"
      ]
    },
    {
      "cell_type": "code",
      "execution_count": null,
      "metadata": {
        "id": "7MqWZeOQhSda"
      },
      "outputs": [],
      "source": [
        "from google.generativeai.types.generation_types import GenerateContentResponse\n",
        "response: GenerateContentResponse = model.generate_content(\n",
        "    \"please write hello world\"\n",
        ")"
      ]
    },
    {
      "cell_type": "code",
      "execution_count": null,
      "metadata": {
        "colab": {
          "base_uri": "https://localhost:8080/",
          "height": 489
        },
        "id": "lj_ON7H6hW8B",
        "outputId": "7ef05f90-19fc-40bd-b250-34069913a3e9"
      },
      "outputs": [
        {
          "data": {
            "text/plain": [
              "response:\n",
              "GenerateContentResponse(\n",
              "    done=True,\n",
              "    iterator=None,\n",
              "    result=protos.GenerateContentResponse({\n",
              "      \"candidates\": [\n",
              "        {\n",
              "          \"content\": {\n",
              "            \"parts\": [\n",
              "              {\n",
              "                \"text\": \"Hello, world!\\n\"\n",
              "              }\n",
              "            ],\n",
              "            \"role\": \"model\"\n",
              "          },\n",
              "          \"finish_reason\": \"STOP\",\n",
              "          \"avg_logprobs\": -0.00028817676939070226\n",
              "        }\n",
              "      ],\n",
              "      \"usage_metadata\": {\n",
              "        \"prompt_token_count\": 5,\n",
              "        \"candidates_token_count\": 5,\n",
              "        \"total_token_count\": 10\n",
              "      }\n",
              "    }),\n",
              ")"
            ]
          },
          "metadata": {},
          "output_type": "display_data"
        }
      ],
      "source": [
        "from IPython.display import display\n",
        "display(response)"
      ]
    },
    {
      "cell_type": "code",
      "execution_count": null,
      "metadata": {
        "colab": {
          "base_uri": "https://localhost:8080/",
          "height": 180
        },
        "id": "xiyAwuyohajX",
        "outputId": "8ff2f013-0373-45f4-cede-a6c31d05ef29"
      },
      "outputs": [
        {
          "data": {
            "text/plain": [
              "[content {\n",
              "  parts {\n",
              "    text: \"Hello, world!\\n\"\n",
              "  }\n",
              "  role: \"model\"\n",
              "}\n",
              "finish_reason: STOP\n",
              "avg_logprobs: -0.00028817676939070226\n",
              "]"
            ]
          },
          "metadata": {},
          "output_type": "display_data"
        }
      ],
      "source": [
        "display(response.candidates)"
      ]
    },
    {
      "cell_type": "code",
      "execution_count": null,
      "metadata": {
        "id": "hvj9YWoAhecA"
      },
      "outputs": [],
      "source": [
        "from IPython.display import Markdown"
      ]
    },
    {
      "cell_type": "code",
      "execution_count": null,
      "metadata": {
        "colab": {
          "base_uri": "https://localhost:8080/"
        },
        "id": "r0ka8ju0hqiN",
        "outputId": "9cd111e3-740c-4bd3-a827-d94af32730fb"
      },
      "outputs": [
        {
          "data": {
            "text/markdown": "Hello, world!\n",
            "text/plain": [
              "<IPython.core.display.Markdown object>"
            ]
          },
          "metadata": {},
          "output_type": "display_data"
        }
      ],
      "source": [
        "display(Markdown(response.text))"
      ]
    },
    {
      "cell_type": "code",
      "execution_count": null,
      "metadata": {
        "id": "64MMl3sNhtz2"
      },
      "outputs": [],
      "source": [
        "!curl -o image.jpg \"https://images.unsplash.com/photo-1732647169576-49abfdef3348?q=80&w=1979&auto=format&fit=crop&ixlib=rb-4.0.3&ixid=M3wxMjA3fDB8MHxwaG90by1wYWdlfHx8fGVufDB8fHx8fA%3D%3D\""
      ]
    },
    {
      "cell_type": "code",
      "execution_count": null,
      "metadata": {
        "colab": {
          "background_save": true
        },
        "id": "E4Q78PyFhve7",
        "outputId": "3f9bf05d-fe49-4ced-bdf7-0a03e9eb2696"
      },
      "outputs": [],
      "source": [
        "import PIL.Image\n",
        "img = PIL.Image.open('image.jpg')\n",
        "display(img)"
      ]
    },
    {
      "cell_type": "code",
      "execution_count": null,
      "metadata": {
        "id": "LN6wwtzQiJ1C"
      },
      "outputs": [],
      "source": [
        "prompt = \"\"\"This image contains a sketch of a potential product along with some notes.\n",
        "Given the product sketch, describe the product as thoroughly as possible based on what you\n",
        "see in the image, making sure to note all of the product features. Return output in json format:\n",
        "{description: description, features: [feature1, feature2, feature3, etc]}\"\"\""
      ]
    },
    {
      "cell_type": "code",
      "execution_count": null,
      "metadata": {
        "id": "JeVQ6yIYiOol"
      },
      "outputs": [],
      "source": [
        "response: GenerateContentResponse = model.generate_content([prompt, img])\n",
        "display(Markdown(response.text))"
      ]
    },
    {
      "cell_type": "code",
      "execution_count": null,
      "metadata": {
        "id": "NoYJjEvbiTB6"
      },
      "outputs": [],
      "source": [
        "from google.generativeai import ChatSession"
      ]
    },
    {
      "cell_type": "code",
      "execution_count": null,
      "metadata": {
        "id": "4pPpew12iW7x"
      },
      "outputs": [],
      "source": [
        "chat: ChatSession = model.start_chat(history=[])"
      ]
    },
    {
      "cell_type": "code",
      "execution_count": null,
      "metadata": {
        "id": "Ck5mfpywiach"
      },
      "outputs": [],
      "source": [
        "response = chat.send_message(\"Hye, I am Hassan\")\n",
        "display(Markdown(response.text))"
      ]
    },
    {
      "cell_type": "code",
      "execution_count": null,
      "metadata": {
        "id": "sKUESbYAif-O"
      },
      "outputs": [],
      "source": [
        "response: GenerateContentResponse = chat.send_message(\"In one sentence, explain how a computer works to a young child.\")\n",
        "display(Markdown(response.text))"
      ]
    },
    {
      "cell_type": "code",
      "execution_count": null,
      "metadata": {
        "id": "Tu04yvCLihQv"
      },
      "outputs": [],
      "source": [
        "response: GenerateContentResponse = chat.send_message(\"Hye, What is my name\")\n",
        "display(Markdown(response.text))"
      ]
    }
  ],
  "metadata": {
    "colab": {
      "provenance": [],
      "authorship_tag": "ABX9TyP6+U3SY6zHa1HlAdStoqbG",
      "include_colab_link": true
    },
    "kernelspec": {
      "display_name": "Python 3",
      "name": "python3"
    },
    "language_info": {
      "name": "python"
    }
  },
  "nbformat": 4,
  "nbformat_minor": 0
}